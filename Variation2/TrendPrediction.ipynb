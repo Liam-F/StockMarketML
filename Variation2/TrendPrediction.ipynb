{
 "cells": [
  {
   "cell_type": "code",
   "execution_count": 1,
   "metadata": {
    "collapsed": true
   },
   "outputs": [],
   "source": [
    "# Processing/Misc\n",
    "\n",
    "from sklearn.utils import shuffle\n",
    "\n",
    "import numpy as np\n",
    "import os\n",
    "\n",
    "import matplotlib.pyplot as plt"
   ]
  },
  {
   "cell_type": "code",
   "execution_count": 2,
   "metadata": {},
   "outputs": [
    {
     "name": "stderr",
     "output_type": "stream",
     "text": [
      "Using TensorFlow backend.\n"
     ]
    }
   ],
   "source": [
    "# Keras\n",
    "\n",
    "import keras.backend as K\n",
    "from keras import regularizers\n",
    "from keras.optimizers import adam, Nadam\n",
    "from keras.models import Sequential\n",
    "from keras.layers.advanced_activations import LeakyReLU, PReLU\n",
    "from keras.callbacks import ReduceLROnPlateau, EarlyStopping, ModelCheckpoint\n",
    "from keras.layers import Dense, LSTM, Dropout, Flatten, Conv1D, Conv2D, BatchNormalization, Activation, GlobalMaxPooling1D, MaxPooling1D, TimeDistributed"
   ]
  },
  {
   "cell_type": "code",
   "execution_count": 3,
   "metadata": {
    "collapsed": true
   },
   "outputs": [],
   "source": [
    "# Hyperz\n",
    "\n",
    "epochs           = 600\n",
    "batch_size       = 32\n",
    "\n",
    "window_size      = 50\n",
    "skip_window_size = 3\n",
    "\n",
    "train_split      = .9\n",
    "emb_size         = 5\n",
    "\n",
    "seed = 11"
   ]
  },
  {
   "cell_type": "code",
   "execution_count": 4,
   "metadata": {
    "collapsed": true
   },
   "outputs": [],
   "source": [
    "np.random.seed(seed)"
   ]
  },
  {
   "cell_type": "code",
   "execution_count": 5,
   "metadata": {
    "collapsed": true
   },
   "outputs": [],
   "source": [
    "# Load Data\n",
    "\n",
    "def create_timeframed_alldata_data(stocks, window_size=10, skip_window_size=2):\n",
    "    \"\"\"\n",
    "    Timeframe Alldata\n",
    "    \n",
    "    Parameters\n",
    "    ----------\n",
    "    stocks : list `str`\n",
    "        The names of the stocks to use (pulled by name from data dir)\n",
    "    \n",
    "    Returns\n",
    "    -------\n",
    "    X, Y : tuple `np.array`\n",
    "        The X and Y data\n",
    "    \"\"\"\n",
    "    X, Y = [], []\n",
    "    \n",
    "    for stock in stocks:\n",
    "        \n",
    "        ### Load From File\n",
    "        \n",
    "        raw_data = []\n",
    "        \n",
    "        with open(os.path.join('..', 'data', stock + '.csv'), 'r') as data:\n",
    "\n",
    "            for line in data:\n",
    "\n",
    "                if len(line) > 6 and \"Date\" not in line and \"null\" not in line:\n",
    "\n",
    "                    items = line.split(\",\")\n",
    "                    items = np.array(list(map(float, items[1:])))\n",
    "\n",
    "                    raw_data.append(np.take(items, [0, 1, 2, 4, 5])) # OPEN HIGH LOW ADJ_CLOSE VOLUME\n",
    "        \n",
    "        data = np.array(raw_data)\n",
    "        \n",
    "        ### Process\n",
    "        \n",
    "        for i in range(1, len(data) - window_size - 1):\n",
    "\n",
    "            time_frame = np.copy(data[i: i + window_size + 1]) # .copy so data[] not modified\n",
    "            \n",
    "            trainable_frame = time_frame[:-skip_window_size-1]\n",
    "\n",
    "            time_frame -= np.mean(trainable_frame, axis=0) # Only normalized via trainable frame b/c thats all\n",
    "            time_frame /= np.std(trainable_frame, axis=0)  #    you get at test time\n",
    "            \n",
    "            target_close = time_frame[-1, 3]\n",
    "            last_close = trainable_frame[-1, 3]\n",
    "            \n",
    "            dclose = target_close - last_close\n",
    "            dclose = dclose**2\n",
    "\n",
    "            X.append(trainable_frame)\n",
    "            \n",
    "            if last_close < target_close:\n",
    "                Y.append([1., 0., dclose]) # Predict: P(Stock Increased) P(Stock Decreased) +/-AmtChanged^2\n",
    "            else:\n",
    "                Y.append([0., 1., dclose])\n",
    "            \n",
    "    return np.array(X), np.array(Y)\n"
   ]
  },
  {
   "cell_type": "code",
   "execution_count": 6,
   "metadata": {
    "collapsed": true
   },
   "outputs": [],
   "source": [
    "# Split\n",
    "\n",
    "def split_data(X, Y, ratio, mix=True):\n",
    "    \"\"\"\n",
    "    Splits X/Y to Train/Test\n",
    "    \"\"\"\n",
    "    \n",
    "    if mix:\n",
    "        \n",
    "        X, Y = shuffle(X, Y, random_state=seed)\n",
    "        \n",
    "    train_size = int(len(X) * ratio)\n",
    "    trainX, testX = X[:train_size], X[train_size:]\n",
    "    trainY, testY = Y[:train_size], Y[train_size:]\n",
    "    \n",
    "    print(np.std(trainY[:, 2]), np.std(testY[:, 2]))\n",
    "    \n",
    "    return trainX, trainY, testX, testY\n",
    "\n",
    "def get_data(stocks):\n",
    "    \n",
    "    X, Y = create_timeframed_alldata_data(stocks, window_size=window_size, skip_window_size=skip_window_size)\n",
    "    \n",
    "    Y[:, 2] /= 6. # Normalize stock changes (precomputed constant stddev)\n",
    "    \n",
    "    return split_data(X, Y, train_split)\n"
   ]
  },
  {
   "cell_type": "code",
   "execution_count": 7,
   "metadata": {
    "collapsed": true
   },
   "outputs": [],
   "source": [
    "# Model\n",
    "\n",
    "def acc_metric(y_true, y_pred):\n",
    "    \"\"\"\n",
    "    Accuracy\n",
    "    \n",
    "    Keras metric to compute the %accuracy of prediction price going up vs down\n",
    "    \"\"\"\n",
    "    return K.mean(K.equal(y_true[:, 0] > y_true[:, 1], \n",
    "                          y_pred[:, 0] > y_pred[:, 1]), axis=-1) # Verify the signs aka up/downs are the same\n",
    "\n",
    "def mse_loss(y_true, y_pred):\n",
    "    return K.mean(K.square(y_pred - y_true), axis=-1)\n",
    "\n",
    "def get_model():\n",
    "    \n",
    "    input_shape = (window_size - skip_window_size, emb_size)\n",
    "    \n",
    "    model = Sequential()\n",
    "\n",
    "    model.add(Conv1D(64, 5, padding='same', input_shape=input_shape))\n",
    "    model.add(PReLU())\n",
    "    model.add(MaxPooling1D(pool_size=5))\n",
    "    model.add(Dropout(0.25))\n",
    "\n",
    "    model.add(LSTM(300))\n",
    "    model.add(PReLU())\n",
    "    model.add(BatchNormalization())\n",
    "    model.add(Dropout(0.25))\n",
    "    \n",
    "    model.add(Dense(300))\n",
    "    model.add(PReLU())\n",
    "    model.add(BatchNormalization())\n",
    "    model.add(Dropout(0.25))\n",
    "    \n",
    "    model.add(Dense(300))\n",
    "    model.add(PReLU())\n",
    "    model.add(BatchNormalization())\n",
    "    model.add(Dropout(0.25))\n",
    "    \n",
    "    model.add(Dense(300))\n",
    "    model.add(PReLU())\n",
    "    model.add(BatchNormalization())\n",
    "    model.add(Dropout(0.25))\n",
    "    \n",
    "    model.add(Dense(300))\n",
    "    model.add(PReLU())\n",
    "    model.add(BatchNormalization())\n",
    "    model.add(Dropout(0.25))\n",
    "\n",
    "    model.add(Dense(3))\n",
    "    \n",
    "    model.compile(loss=mse_loss, optimizer=adam(lr=0.0012), metrics=[acc_metric])\n",
    "        \n",
    "    return model\n"
   ]
  },
  {
   "cell_type": "code",
   "execution_count": 8,
   "metadata": {},
   "outputs": [
    {
     "name": "stdout",
     "output_type": "stream",
     "text": [
      "0.948491094667 0.792117642369\n",
      "(10057, 47, 5) (1118, 3)\n"
     ]
    }
   ],
   "source": [
    "# Load Data\n",
    "\n",
    "if __name__ == \"__main__\":\n",
    "    \n",
    "    trainX, trainY, testX, testY = get_data(['GOOG', 'MSFT'])\n",
    "    \n",
    "    print(trainX.shape, testY.shape) # Manually Verify train size, general input dim and test size, general output dim\n"
   ]
  },
  {
   "cell_type": "code",
   "execution_count": 9,
   "metadata": {},
   "outputs": [
    {
     "data": {
      "image/png": "[encoded data removed]",
      "text/plain": [
       "<matplotlib.figure.Figure at 0x2504244cf98>"
      ]
     },
     "metadata": {},
     "output_type": "display_data"
    },
    {
     "data": {
      "image/png": "[encoded data removed]",
      "text/plain": [
       "<matplotlib.figure.Figure at 0x252a237d518>"
      ]
     },
     "metadata": {},
     "output_type": "display_data"
    }
   ],
   "source": [
    "# Train\n",
    "\n",
    "if __name__ == \"__main__\":\n",
    "\n",
    "    model = get_model()\n",
    "\n",
    "    reduce_LR = ReduceLROnPlateau(monitor='val_loss', factor=0.9, patience=20, min_lr=1e-7, verbose=0)\n",
    "    e_stopping = EarlyStopping(monitor='val_acc_metric', patience=80)\n",
    "    checkpoint = ModelCheckpoint(os.path.join('..', 'models', 'trend-pred.h5'), \n",
    "                                 monitor='val_acc_metric', \n",
    "                                 verbose=0,\n",
    "                                 save_best_only=True)\n",
    "\n",
    "    history = model.fit(trainX, trainY, epochs=epochs, \n",
    "                                        batch_size=batch_size, \n",
    "                                        validation_data=(testX, testY), \n",
    "                                        verbose=0, \n",
    "                                        callbacks=[e_stopping, checkpoint])\n",
    "\n",
    "    plt.plot(np.log(history.history['loss']))\n",
    "    plt.plot(np.log(history.history['val_loss']))\n",
    "    plt.legend(['LogTrainLoss', 'LogTestLoss'])\n",
    "    plt.show()\n",
    "\n",
    "    plt.plot(history.history['acc_metric'])\n",
    "    plt.plot(history.history['val_acc_metric'])\n",
    "    plt.axhline(y=1, color='g')\n",
    "    plt.axhline(y=0.5, color='r')\n",
    "    plt.legend(['TrainAcc', 'TestAcc'])\n",
    "    plt.show()\n"
   ]
  }
 ],
 "metadata": {
  "kernelspec": {
   "display_name": "Python [conda env:tf-gpu]",
   "language": "python",
   "name": "conda-env-tf-gpu-py"
  },
  "language_info": {
   "codemirror_mode": {
    "name": "ipython",
    "version": 3
   },
   "file_extension": ".py",
   "mimetype": "text/x-python",
   "name": "python",
   "nbconvert_exporter": "python",
   "pygments_lexer": "ipython3",
   "version": "3.5.4"
  }
 },
 "nbformat": 4,
 "nbformat_minor": 2
}
