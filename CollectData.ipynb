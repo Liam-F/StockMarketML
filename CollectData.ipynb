{
 "cells": [
  {
   "cell_type": "code",
   "execution_count": 1,
   "metadata": {
    "collapsed": true
   },
   "outputs": [],
   "source": [
    "# Setup (Imports)\n",
    "\n",
    "\n",
    "from nltk.stem.porter import PorterStemmer\n",
    "from nltk.tokenize import RegexpTokenizer\n",
    "from nltk.corpus import stopwords\n",
    "\n",
    "from collections import defaultdict\n",
    "from datetime import datetime\n",
    "from praw import Reddit\n",
    "\n",
    "import requests\n",
    "import os"
   ]
  },
  {
   "cell_type": "code",
   "execution_count": 2,
   "metadata": {},
   "outputs": [],
   "source": [
    "\n",
    "def process_raw_text(text):\n",
    "\n",
    "    tokenizer = RegexpTokenizer(r'\\w+')\n",
    "    text_processed = tokenizer.tokenize(text)\n",
    "    \n",
    "    text_processed = [word.lower() for word in text_processed if word.lower() not in stopwords.words('english')]\n",
    "\n",
    "    porter_stemmer = PorterStemmer()\n",
    "\n",
    "    text_processed = [porter_stemmer.stem(word) for word in text_processed]\n",
    "\n",
    "    return \" \".join(text_processed)\n"
   ]
  },
  {
   "cell_type": "code",
   "execution_count": 3,
   "metadata": {},
   "outputs": [],
   "source": [
    "\n",
    "reddit = Reddit('StockMarketML')\n",
    "\n",
    "articles = defaultdict(list)\n",
    "\n",
    "for submission in reddit.subreddit('news+apple+ios+AAPL').search('apple', limit=None):\n",
    "    \n",
    "    articles[datetime.fromtimestamp(submission.created).strftime('%Y-%m-%d')].append(submission.title)\n",
    "    \n",
    "with open(os.path.join('data', 'reddit.csv'), 'w') as redditfile:\n",
    "    \n",
    "    for date, sents in articles.items():\n",
    "        \n",
    "        data = str(sents).encode(\"utf-8\")\n",
    "    \n",
    "        redditfile.write(date + \", \" + str(data)[1:] + \"\\n\")\n",
    "    "
   ]
  }
 ],
 "metadata": {
  "kernelspec": {
   "display_name": "Python [conda env:tf-cpu]",
   "language": "python",
   "name": "conda-env-tf-cpu-py"
  },
  "language_info": {
   "codemirror_mode": {
    "name": "ipython",
    "version": 3
   },
   "file_extension": ".py",
   "mimetype": "text/x-python",
   "name": "python",
   "nbconvert_exporter": "python",
   "pygments_lexer": "ipython3",
   "version": "3.5.4"
  }
 },
 "nbformat": 4,
 "nbformat_minor": 2
}
