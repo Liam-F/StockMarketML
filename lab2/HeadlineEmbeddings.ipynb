{
 "cells": [
  {
   "cell_type": "code",
   "execution_count": 1,
   "metadata": {},
   "outputs": [
    {
     "name": "stderr",
     "output_type": "stream",
     "text": [
      "Using TensorFlow backend.\n"
     ]
    }
   ],
   "source": [
    "# Imports\n",
    "\n",
    "from datetime import datetime, timedelta\n",
    "\n",
    "import numpy as np\n",
    "import os\n",
    "\n",
    "import matplotlib.pyplot as plt\n",
    "\n",
    "from keras.models import Sequential, load_model, Model\n",
    "from keras.preprocessing.text import Tokenizer\n",
    "from keras.preprocessing.sequence import pad_sequences\n",
    "from keras.layers import Input, concatenate\n",
    "from keras.layers import Dense, Flatten, Embedding, LSTM, Activation, BatchNormalization, Dropout, Conv1D, MaxPooling1D\n",
    "from keras.callbacks import ReduceLROnPlateau, EarlyStopping, ModelCheckpoint"
   ]
  },
  {
   "cell_type": "code",
   "execution_count": 2,
   "metadata": {
    "collapsed": true
   },
   "outputs": [],
   "source": [
    "# Options\n",
    "\n",
    "stocks = ['AAPL', 'AMD', 'AMZN', 'GOOG', 'MSFT']\n",
    "\n",
    "max_length = 40\n",
    "vocab_size = 600\n",
    "emb_size   = 64\n",
    "\n",
    "epochs     = 120\n",
    "batch_size = 32"
   ]
  },
  {
   "cell_type": "code",
   "execution_count": 3,
   "metadata": {
    "collapsed": true
   },
   "outputs": [],
   "source": [
    "\n",
    "def get_tick_data(stocks):\n",
    "    \"\"\"\n",
    "    Tick Data\n",
    "    \n",
    "    This reads the high, lows, closes, etc. from data csv files\n",
    "    \"\"\"\n",
    "    history = {}\n",
    "    \n",
    "    for stock in stocks:\n",
    "        \n",
    "        history[stock] = {}\n",
    "        \n",
    "        with open(os.path.join('..', 'data', stock + '.csv'), 'r') as data:\n",
    "\n",
    "            for line in data:\n",
    "\n",
    "                if len(line) > 6 and \"Date\" not in line and \"null\" not in line:\n",
    "\n",
    "                    items = line.split(\",\")\n",
    "                    \n",
    "                    date = items[0]\n",
    "                    data = np.array(list(map(float, items[1:]))) # 0, 1, 2, 4, 5 -> OPEN HIGH LOW ADJ_CLOSE VOLUME\n",
    "                    \n",
    "                    history[stock][date] = data\n",
    "        \n",
    "    return history\n"
   ]
  },
  {
   "cell_type": "code",
   "execution_count": 4,
   "metadata": {
    "collapsed": true
   },
   "outputs": [],
   "source": [
    "\n",
    "def get_headline_data(stocks):\n",
    "    \"\"\"\n",
    "    Headline Data\n",
    "    \n",
    "    This reads the headlines from the headline csv file (created by CollectData)\n",
    "    \"\"\"\n",
    "    history = {}\n",
    "    \n",
    "    with open(os.path.join('..', 'data', \"_\".join(stocks) + '-headlines.csv'), 'r', encoding=\"utf8\") as data:\n",
    "        \n",
    "        for line in data:\n",
    "\n",
    "            if len(line) > 6:\n",
    "\n",
    "                stock, date, headlines = line.split(\",\")\n",
    "                \n",
    "                headlines = eval(headlines.strip().replace('@', ','))\n",
    "        \n",
    "                if not stock in history:\n",
    "                    \n",
    "                    history[stock] = {}\n",
    "                \n",
    "                history[stock][date] = headlines\n",
    "                \n",
    "    return history\n"
   ]
  },
  {
   "cell_type": "code",
   "execution_count": 5,
   "metadata": {
    "collapsed": true
   },
   "outputs": [],
   "source": [
    "\n",
    "def make_headline_to_effect_data(tick_data, head_data):\n",
    "    \"\"\"\n",
    "    Headline -> Effect\n",
    "    \n",
    "    Creates essentially the X, Y data for the embedding model to use\n",
    "    when analyzing/encoding headlines. Returns a list of headlines and\n",
    "    a list of corresponding 'effects' which represent a change in the stock price.\n",
    "    \"\"\"\n",
    "    sources, all_headlines, effects = [], [], []\n",
    "    \n",
    "    for stock, dates in head_data.items():\n",
    "        \n",
    "        for date, headlines in dates.items():\n",
    "            \n",
    "            ## Find Matching tick data dates for headline dates ##\n",
    "            \n",
    "            event_date = datetime.strptime(date, '%Y-%m-%d') # The date `of` headline\n",
    "            effect_date = event_date + timedelta(days=1)     # The day after `affected` by headline\n",
    "            \n",
    "            for i in range(4):\n",
    "                if event_date.strftime('%Y-%m-%d') in tick_data[stock]:\n",
    "                    break\n",
    "                else:\n",
    "                    event_date -= timedelta(days=1)\n",
    "            else:\n",
    "                continue\n",
    "                    \n",
    "            for i in range(3):\n",
    "                if effect_date.strftime('%Y-%m-%d') in tick_data[stock]:\n",
    "                    break\n",
    "                else:\n",
    "                    effect_date += timedelta(days=1)\n",
    "            else:\n",
    "                continue\n",
    "                \n",
    "            event_date = event_date.strftime('%Y-%m-%d')\n",
    "            effect_date = effect_date.strftime('%Y-%m-%d')\n",
    "            \n",
    "            ## Determine Effect ##\n",
    "            \n",
    "            if event_date in tick_data[stock] and effect_date in tick_data[stock]:\n",
    "                \n",
    "                tick_on = tick_data[stock][event_date]\n",
    "                tick_after = tick_data[stock][effect_date]\n",
    "                \n",
    "                if tick_after[3] >= tick_on[3]: # Compare Close Prices\n",
    "                    \n",
    "                    effect = [1., 0.]\n",
    "                    \n",
    "                else:\n",
    "                    \n",
    "                    effect = [0., 1.]\n",
    "                    \n",
    "                for source, headline in headlines.items():\n",
    "                    \n",
    "                    all_headlines.append(headline)\n",
    "                    effects.append(effect)\n",
    "                    sources.append(source)\n",
    "                \n",
    "    return sources, all_headlines, np.array(effects)\n"
   ]
  },
  {
   "cell_type": "code",
   "execution_count": 6,
   "metadata": {
    "collapsed": true
   },
   "outputs": [],
   "source": [
    "\n",
    "def encode_sentences(sources, sentences, tokenizer=None, max_length=100, vocab_size=100):\n",
    "    \"\"\"\n",
    "    Encoder\n",
    "    \n",
    "    Takes a list of headlines and converts them into vectors\n",
    "    \"\"\"\n",
    "    ## Encoding Sentences\n",
    "    \n",
    "    if not tokenizer:\n",
    "        \n",
    "        tokenizer = Tokenizer(num_words=vocab_size, filters='', lower=False) # Preprocessed\n",
    "    \n",
    "        tokenizer.fit_on_texts(sentences)\n",
    "    \n",
    "    encoded_headlines = tokenizer.texts_to_sequences(sentences)\n",
    "    \n",
    "    padded_headlines = pad_sequences(encoded_headlines, maxlen=max_length, padding='post')\n",
    "    \n",
    "    ## Encoding Source\n",
    "    \n",
    "    source_set, source_mat = list(set(sources)), []\n",
    "    \n",
    "    for source in sources:\n",
    "        \n",
    "        row = [0] * len(source_set)\n",
    "        row[source_set.index(source)] = 1\n",
    "        source_mat.append(row)\n",
    "        \n",
    "    source_mat = np.array(source_mat)\n",
    "    \n",
    "    return source_mat, padded_headlines, tokenizer\n"
   ]
  },
  {
   "cell_type": "code",
   "execution_count": 7,
   "metadata": {
    "collapsed": true
   },
   "outputs": [],
   "source": [
    "\n",
    "def split_data(X, X2, Y, ratio):\n",
    "    \"\"\"\n",
    "    Splits X/Y to Train/Test\n",
    "    \"\"\"\n",
    "    train_size = int(len(X) * ratio)\n",
    "    \n",
    "    trainX,  testX  = X[:train_size],  X[train_size:]\n",
    "    trainX2, testX2 = X2[:train_size], X2[train_size:]\n",
    "    trainY,  testY  = Y[:train_size],  Y[train_size:]\n",
    "        \n",
    "    indexes = np.arange(trainX.shape[0])\n",
    "    np.random.shuffle(indexes)\n",
    "        \n",
    "    trainX  = trainX[indexes]\n",
    "    trainX2 = trainX2[indexes]\n",
    "    trainY  = trainY[indexes]\n",
    "    \n",
    "    return trainX, trainX2, trainY, testX, testX2, testY\n"
   ]
  },
  {
   "cell_type": "code",
   "execution_count": 8,
   "metadata": {},
   "outputs": [],
   "source": [
    "\n",
    "def get_model():\n",
    "    \n",
    "    ## Text\n",
    "    \n",
    "    text_input = Input(shape=(max_length,))\n",
    "    \n",
    "    emb = Embedding(vocab_size, emb_size, input_length=max_length)(text_input)\n",
    "    \n",
    "    conv = Conv1D(filters=32, kernel_size=3, padding='same', activation='relu')(emb)\n",
    "    conv = MaxPooling1D(pool_size=2)(conv)\n",
    "    \n",
    "    lstm = LSTM(300)(conv)\n",
    "    lstm = Activation('relu')(lstm)\n",
    "    lstm = BatchNormalization()(lstm)\n",
    "    lstm = Dropout(0.1)(lstm)\n",
    "    \n",
    "    ## Source\n",
    "    \n",
    "    source_input = Input(shape=(4,))\n",
    "    \n",
    "    ## Combined\n",
    "    \n",
    "    merged = concatenate([lstm, source_input])\n",
    "    \n",
    "    dense_1 = Dense(300)(merged)\n",
    "    dense_1 = Activation('relu')(dense_1)\n",
    "    dense_1 = BatchNormalization()(dense_1)\n",
    "    dense_1 = Dropout(0.5)(dense_1)\n",
    "    \n",
    "    dense_2 = Dense(300)(dense_1)\n",
    "    dense_2 = Activation('relu')(dense_2)\n",
    "    dense_2 = BatchNormalization()(dense_2)\n",
    "    dense_2 = Dropout(0.5)(dense_2)\n",
    "    \n",
    "    dense_3 = Dense(2)(dense_2)\n",
    "    out = Activation('softmax')(dense_3)\n",
    "    \n",
    "    model = Model(inputs=[text_input, source_input], outputs=out)\n",
    "    \n",
    "    model.compile(optimizer='rmsprop', loss='categorical_crossentropy', metrics=['acc'])\n",
    "    \n",
    "    return model\n"
   ]
  },
  {
   "cell_type": "code",
   "execution_count": 9,
   "metadata": {},
   "outputs": [
    {
     "name": "stdout",
     "output_type": "stream",
     "text": [
      "(3040, 40) (3040, 4) (2028, 2)\n"
     ]
    }
   ],
   "source": [
    "\n",
    "if __name__ == \"__main__\":\n",
    "    \n",
    "    tick_data = get_tick_data(stocks)\n",
    "    head_data = get_headline_data(stocks)\n",
    "    \n",
    "    sources, headlines, effects = make_headline_to_effect_data(tick_data, head_data)\n",
    "    \n",
    "    encoded_sources, encoded_headlines, toke = encode_sentences(sources, \n",
    "                                                                headlines, \n",
    "                                                                max_length=max_length, \n",
    "                                                                vocab_size=vocab_size)\n",
    "    \n",
    "    trainX, trainX2, trainY, testX, testX2, testY = split_data(encoded_headlines, encoded_sources, effects, .6)\n",
    "    \n",
    "    print(trainX.shape, trainX2.shape, testY.shape)\n"
   ]
  },
  {
   "cell_type": "code",
   "execution_count": 10,
   "metadata": {},
   "outputs": [
    {
     "data": {
      "image/png": "[encoded data removed]",
      "text/plain": [
       "<matplotlib.figure.Figure at 0x2002aede4a8>"
      ]
     },
     "metadata": {},
     "output_type": "display_data"
    },
    {
     "data": {
      "image/png": "[encoded data removed]",
      "text/plain": [
       "<matplotlib.figure.Figure at 0x20077d4f550>"
      ]
     },
     "metadata": {},
     "output_type": "display_data"
    }
   ],
   "source": [
    "\n",
    "if __name__ == \"__main__\":\n",
    "    \n",
    "    model = get_model()\n",
    "    \n",
    "    e_stopping = EarlyStopping(monitor='val_loss', patience=70)\n",
    "    checkpoint = ModelCheckpoint(os.path.join('..', 'models', 'media-headlines.h5'), \n",
    "                                 monitor='val_loss',\n",
    "                                 verbose=0,\n",
    "                                 save_best_only=True)\n",
    "    \n",
    "    history = model.fit([trainX, trainX2],\n",
    "                        trainY,\n",
    "                        epochs=epochs, \n",
    "                        batch_size=batch_size,\n",
    "                        validation_data=([testX, testX2], testY),\n",
    "                        verbose=0,\n",
    "                        callbacks=[e_stopping, checkpoint])\n",
    "    \n",
    "    plt.plot(np.log(history.history['loss']))\n",
    "    plt.plot(np.log(history.history['val_loss']))\n",
    "    plt.legend(['LogTrainLoss', 'LogTestLoss'])\n",
    "    plt.show()\n",
    "    \n",
    "    plt.plot(history.history['acc'])\n",
    "    plt.plot(history.history['val_acc'])\n",
    "    plt.legend(['TrainAcc', 'TestAcc'])\n",
    "    plt.show()\n",
    "    "
   ]
  },
  {
   "cell_type": "code",
   "execution_count": 11,
   "metadata": {},
   "outputs": [
    {
     "name": "stdout",
     "output_type": "stream",
     "text": [
      "\n",
      "the ceo of **COMPANY** was fired after selling a bad **PRODUCT**\n",
      "[ 0.56454366  0.43545634]\n",
      "Stock Will Go Up\n",
      "\n",
      "**COMPANY** just released a **PRODUCT** thats better than every other company\n",
      "[ 0.65221512  0.34778491]\n",
      "Stock Will Go Up\n",
      "\n",
      "**COMPANY**s **PRODUCT** killed a family of ducks in a sensor malfunction\n",
      "[ 0.58663046  0.41336951]\n",
      "Stock Will Go Up\n",
      "\n",
      "the **COMPANY** team released a breakthrough in **PRODUCT** gaming\n",
      "[ 0.57971686  0.42028314]\n",
      "Stock Will Go Up\n"
     ]
    }
   ],
   "source": [
    "\n",
    "if __name__ == \"__main__\":\n",
    "    \n",
    "    model = load_model(os.path.join('..', 'models', 'media-headlines.h5'))\n",
    "    \n",
    "    test_sents = [\n",
    "        'the ceo of **COMPANY** was fired after selling a bad **PRODUCT**', \n",
    "        '**COMPANY** just released a **PRODUCT** thats better than every other company',\n",
    "        '**COMPANY**s **PRODUCT** killed a family of ducks in a sensor malfunction',\n",
    "        'the **COMPANY** team released a breakthrough in **PRODUCT** gaming'\n",
    "    ]\n",
    "    \n",
    "    encoded_sources, test_encoded, _ = encode_sentences(['reuters', 'twitter', 'reddit', 'seekingalpha'], \n",
    "                                                        test_sents, \n",
    "                                                        tokenizer=toke, \n",
    "                                                        max_length=max_length, \n",
    "                                                        vocab_size=vocab_size)\n",
    "    \n",
    "    predictions = model.predict([test_encoded, encoded_sources])\n",
    "    \n",
    "    for i in range(len(test_sents)):\n",
    "        \n",
    "        print(\"\")\n",
    "        print(test_sents[i])\n",
    "        print(predictions[i])\n",
    "        print(\"Stock Will Go Up\" if np.argmax(predictions[i]) == 0 else \"Stock Will Go Down\")\n"
   ]
  }
 ],
 "metadata": {
  "kernelspec": {
   "display_name": "Python [conda env:tf-gpu]",
   "language": "python",
   "name": "conda-env-tf-gpu-py"
  },
  "language_info": {
   "codemirror_mode": {
    "name": "ipython",
    "version": 3
   },
   "file_extension": ".py",
   "mimetype": "text/x-python",
   "name": "python",
   "nbconvert_exporter": "python",
   "pygments_lexer": "ipython3",
   "version": "3.5.4"
  }
 },
 "nbformat": 4,
 "nbformat_minor": 2
}
