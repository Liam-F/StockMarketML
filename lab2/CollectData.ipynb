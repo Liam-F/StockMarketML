{
 "cells": [
  {
   "cell_type": "code",
   "execution_count": 1,
   "metadata": {},
   "outputs": [
    {
     "name": "stderr",
     "output_type": "stream",
     "text": [
      "H:\\Users\\Shriv\\Anaconda3\\envs\\tf-cpu\\lib\\site-packages\\gensim\\utils.py:862: UserWarning: detected Windows; aliasing chunkize to chunkize_serial\n",
      "  warnings.warn(\"detected Windows; aliasing chunkize to chunkize_serial\")\n",
      "Using TensorFlow backend.\n"
     ]
    }
   ],
   "source": [
    "# Setup (Imports)\n",
    "\n",
    "from gensim.models.doc2vec import LabeledSentence\n",
    "from gensim.models import Doc2Vec\n",
    "\n",
    "from datetime import datetime, timedelta\n",
    "from collections import defaultdict\n",
    "\n",
    "import requests\n",
    "import random\n",
    "import os\n",
    "import re"
   ]
  },
  {
   "cell_type": "code",
   "execution_count": 2,
   "metadata": {
    "collapsed": true
   },
   "outputs": [],
   "source": [
    "\n",
    "def strip_headline(headline):\n",
    "    \"\"\"Clean headline\"\"\"\n",
    "    return headline.replace(',', '').lower()\n"
   ]
  },
  {
   "cell_type": "code",
   "execution_count": 3,
   "metadata": {},
   "outputs": [],
   "source": [
    "\n",
    "def get_reddit_news(subs, search_terms, limit=None, praw_config='StockMarketML'):\n",
    "    \"Get headlines from Reddit\"\n",
    "    from praw import Reddit\n",
    "    \n",
    "    reddit = Reddit(praw_config)\n",
    "\n",
    "    articles = defaultdict(list)\n",
    "    \n",
    "    used = []\n",
    "    \n",
    "    for term in search_terms:\n",
    "\n",
    "        for submission in reddit.subreddit('+'.join(subs)).search(term, limit=limit):\n",
    "            \n",
    "            if submission.title not in used:\n",
    "                \n",
    "                used.append(submission.title)\n",
    "                \n",
    "                date_key = datetime.fromtimestamp(submission.created).strftime('%Y-%m-%d')\n",
    "\n",
    "                articles[date_key].append(submission.title)\n",
    "        \n",
    "    return articles\n",
    "\n",
    "def get_reuters_news(stock, limit=400):\n",
    "    \"Get headlines from Reuters\"\n",
    "    articles = defaultdict(list)\n",
    "    \n",
    "    pattern_headline = re.compile('<h2>\\s*(<a [\\S]*\\s*>)?(.+?)(<\\/a>)?\\s*<\\/h2>')\n",
    "    \n",
    "    date_current = datetime.now()\n",
    "    \n",
    "    while limit > 0:\n",
    "        \n",
    "        text = requests.get('http://www.reuters.com/finance/stocks/company-news/{}?date={}'.format(stock, date_current.strftime('%m%d%Y'))).text\n",
    "        \n",
    "        for match in pattern_headline.finditer(text):\n",
    "            \n",
    "            headline = match.group(2)\n",
    "            \n",
    "            headline = re.sub('[A-Z][A-Z\\d\\s]{5,}\\-', '', headline)\n",
    "            \n",
    "            date_key = date_current.strftime('%Y-%m-%d')\n",
    "            \n",
    "            if headline not in articles[date_key]:\n",
    "            \n",
    "                articles[date_key].append(headline)\n",
    "        \n",
    "            limit -= 1\n",
    "        \n",
    "        date_current -= timedelta(days=1)\n",
    "        \n",
    "    return articles\n",
    "\n",
    "def save_headlines(headlines, force_one_per_day=False):\n",
    "    \"\"\"Save headlines to file\"\"\"\n",
    "    with open(os.path.join('..', 'data', \"_\".join(headlines.keys()) + '-headlines.csv'), 'w', encoding=\"utf-8\") as headline_file:\n",
    "        \n",
    "        for stock in headlines:\n",
    "    \n",
    "            articles = defaultdict(list)\n",
    "\n",
    "            for source in headlines[stock]:\n",
    "\n",
    "                for date in source:\n",
    "\n",
    "                    articles[date].extend(source[date])\n",
    "        \n",
    "            for date in sorted(articles):\n",
    "\n",
    "                current_articles = articles[date]\n",
    "\n",
    "                if force_one_per_day:\n",
    "\n",
    "                    current_articles = [random.choice(current_articles)]\n",
    "\n",
    "                for headline in current_articles:\n",
    "\n",
    "                    headline_file.write(\"{},{},{}\\n\".format(stock, date, strip_headline(headline)))\n"
   ]
  },
  {
   "cell_type": "code",
   "execution_count": 4,
   "metadata": {},
   "outputs": [
    {
     "name": "stdout",
     "output_type": "stream",
     "text": [
      "Version 5.2.0 of praw is outdated. Version 5.3.0 was released 1 day ago.\n"
     ]
    }
   ],
   "source": [
    "\n",
    "if __name__ == \"__main__\":\n",
    "    \n",
    "    headlines = {\n",
    "        'AAPL': [\n",
    "            get_reddit_news(['apple', 'ios', 'AAPL', 'news'], ['apple', 'iphone', 'ipad', 'ios']), \n",
    "            get_reuters_news('AAPL.O')\n",
    "        ]\n",
    "    }\n"
   ]
  },
  {
   "cell_type": "code",
   "execution_count": 5,
   "metadata": {},
   "outputs": [],
   "source": [
    "\n",
    "if __name__ == \"__main__\":\n",
    "\n",
    "    save_headlines(headlines, force_one_per_day=True)\n"
   ]
  }
 ],
 "metadata": {
  "kernelspec": {
   "display_name": "Python [conda env:tf-cpu]",
   "language": "python",
   "name": "conda-env-tf-cpu-py"
  },
  "language_info": {
   "codemirror_mode": {
    "name": "ipython",
    "version": 3
   },
   "file_extension": ".py",
   "mimetype": "text/x-python",
   "name": "python",
   "nbconvert_exporter": "python",
   "pygments_lexer": "ipython3",
   "version": "3.5.4"
  }
 },
 "nbformat": 4,
 "nbformat_minor": 2
}
