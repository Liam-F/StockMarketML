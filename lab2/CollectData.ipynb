{
 "cells": [
  {
   "cell_type": "code",
   "execution_count": 1,
   "metadata": {},
   "outputs": [],
   "source": [
    "# Setup (Imports)\n",
    "from datetime import datetime, timedelta\n",
    "from collections import defaultdict\n",
    "\n",
    "import requests\n",
    "import random\n",
    "import os\n",
    "import re"
   ]
  },
  {
   "cell_type": "code",
   "execution_count": 2,
   "metadata": {
    "collapsed": true
   },
   "outputs": [],
   "source": [
    "\n",
    "def strip_headline(headline):\n",
    "    \"\"\"Clean headline\"\"\"\n",
    "    headline = headline.lower()\n",
    "    headline = re.sub(r'^https?:\\/\\/.*[\\r\\n]*', '', headline, flags=re.MULTILINE)\n",
    "    headline = ''.join(c for c in headline if c not in \",.?!;'\\\"{}[]()*#&:\\\\/|\")\n",
    "    return headline.strip()\n"
   ]
  },
  {
   "cell_type": "code",
   "execution_count": 3,
   "metadata": {},
   "outputs": [],
   "source": [
    "\n",
    "def get_reddit_news(subs, search_terms, limit=None, praw_config='StockMarketML'):\n",
    "    \"Get headlines from Reddit\"\n",
    "    from praw import Reddit\n",
    "    \n",
    "    reddit = Reddit(praw_config)\n",
    "\n",
    "    articles = defaultdict(list)\n",
    "    \n",
    "    used = []\n",
    "    \n",
    "    for term in search_terms:\n",
    "\n",
    "        for submission in reddit.subreddit('+'.join(subs)).search(term, limit=limit):\n",
    "            \n",
    "            if submission.title not in used:\n",
    "                \n",
    "                used.append(submission.title)\n",
    "                \n",
    "                date_key = datetime.fromtimestamp(submission.created).strftime('%Y-%m-%d')\n",
    "\n",
    "                articles[date_key].append(submission.title)\n",
    "        \n",
    "    return articles\n",
    "\n",
    "def get_reuters_news(stock, limit=600):\n",
    "    \"Get headlines from Reuters\"\n",
    "    articles = defaultdict(list)\n",
    "    \n",
    "    pattern_headline = re.compile('<h2>\\s*(<a [\\S]*\\s*>)?(.+?)(<\\/a>)?\\s*<\\/h2>')\n",
    "    \n",
    "    date_current = datetime.now()\n",
    "    \n",
    "    while limit > 0:\n",
    "        \n",
    "        text = requests.get('http://www.reuters.com/finance/stocks/company-news/{}?date={}'.format(stock, date_current.strftime('%m%d%Y'))).text\n",
    "        \n",
    "        for match in pattern_headline.finditer(text):\n",
    "            \n",
    "            headline = match.group(2)\n",
    "            \n",
    "            headline = re.sub('[A-Z][A-Z\\d\\s]{5,}\\-', '', headline)\n",
    "            \n",
    "            date_key = date_current.strftime('%Y-%m-%d')\n",
    "            \n",
    "            if headline not in articles[date_key]:\n",
    "            \n",
    "                articles[date_key].append(headline)\n",
    "        \n",
    "            limit -= 1\n",
    "        \n",
    "        date_current -= timedelta(days=1)\n",
    "        \n",
    "    return articles\n",
    "\n",
    "def get_twitter_news(querys, limit=100):\n",
    "    \"\"\"Get headlines from Twitter\"\"\"\n",
    "    from twitter import Twitter, OAuth\n",
    "    import twitter_creds as c # Self-Created Python file with Creds\n",
    "\n",
    "    twitter = Twitter(auth=OAuth(c.ACCESS_TOKEN, c.ACCESS_SECRET, c.CONSUMER_KEY, c.CONSUMER_SECRET))\n",
    "    \n",
    "    limit = min(limit, 100)\n",
    "    \n",
    "    articles = defaultdict(list)\n",
    "    \n",
    "    for query in querys:\n",
    "    \n",
    "        tweets = twitter.search.tweets(q=query, result_type='popular', lang='en', count=limit)['statuses']\n",
    "        \n",
    "        for tweet in tweets:\n",
    "            \n",
    "            text = re.sub(r'\\W+', '', tweet['text'])\n",
    "            date = tweet['created_at']\n",
    "            \n",
    "            if '\\n' not in text and len(text) > len(query):\n",
    "                \n",
    "                date_key = datetime.strptime(date, \"%a %b %d %H:%M:%S %z %Y\" ).strftime('%Y-%m-%d')\n",
    "                \n",
    "                articles[date_key].append(text)\n",
    "                \n",
    "    return articles\n"
   ]
  },
  {
   "cell_type": "code",
   "execution_count": 4,
   "metadata": {
    "collapsed": true
   },
   "outputs": [],
   "source": [
    "\n",
    "def save_headlines(headlines):\n",
    "    \"\"\"Save headlines to file\"\"\"\n",
    "    with open(os.path.join('..', 'data', \"_\".join(headlines.keys()) + '-headlines.csv'), 'w', encoding=\"utf-8\") as headline_file:\n",
    "        \n",
    "        for stock in headlines:\n",
    "            \n",
    "            articles = defaultdict(dict)\n",
    "\n",
    "            for source, source_headlines in headlines[stock].items():\n",
    "\n",
    "                for date in source_headlines:\n",
    "                    \n",
    "                    articles[date][source] = strip_headline(random.choice(headlines[stock][source][date]))\n",
    "        \n",
    "            for date in sorted(articles):\n",
    "\n",
    "                current_articles = articles[date]\n",
    "\n",
    "                headline_file.write(\"{},{},{}\\n\".format(stock, date, str(current_articles)))\n"
   ]
  },
  {
   "cell_type": "code",
   "execution_count": 5,
   "metadata": {
    "scrolled": true
   },
   "outputs": [],
   "source": [
    "\n",
    "if __name__ == \"__main__\":\n",
    "    \n",
    "    headlines = {\n",
    "            'GOOG': {\n",
    "                'reddit': get_reddit_news(['google', 'Android', 'GooglePixel', 'news'], ['Google', 'pixel', 'android']), \n",
    "                'reuters': get_reuters_news('GOOG.O'),\n",
    "                'twitter': get_twitter_news(['#Google', '#googlepixel', '#Alphabet'])\n",
    "            },\n",
    "            'AAPL': {\n",
    "                'reddit': get_reddit_news(['apple', 'ios', 'AAPL', 'news'], ['apple', 'iphone', 'ipad', 'ios']), \n",
    "                'reuters': get_reuters_news('AAPL.O'),\n",
    "                'twitter': get_twitter_news(['#Apple', '#IPhone', '#ios'])\n",
    "            }\n",
    "    }\n"
   ]
  },
  {
   "cell_type": "code",
   "execution_count": 6,
   "metadata": {},
   "outputs": [],
   "source": [
    "\n",
    "if __name__ == \"__main__\":\n",
    "\n",
    "    save_headlines(headlines)\n"
   ]
  }
 ],
 "metadata": {
  "kernelspec": {
   "display_name": "Python [conda env:tf-gpu]",
   "language": "python",
   "name": "conda-env-tf-gpu-py"
  },
  "language_info": {
   "codemirror_mode": {
    "name": "ipython",
    "version": 3
   },
   "file_extension": ".py",
   "mimetype": "text/x-python",
   "name": "python",
   "nbconvert_exporter": "python",
   "pygments_lexer": "ipython3",
   "version": "3.5.4"
  }
 },
 "nbformat": 4,
 "nbformat_minor": 2
}
