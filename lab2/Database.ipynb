{
 "cells": [
  {
   "cell_type": "code",
   "execution_count": 1,
   "metadata": {
    "collapsed": true
   },
   "outputs": [],
   "source": [
    "\n",
    "from contextlib import contextmanager\n",
    "import sqlite3\n",
    "import os\n"
   ]
  },
  {
   "cell_type": "code",
   "execution_count": 2,
   "metadata": {
    "collapsed": true
   },
   "outputs": [],
   "source": [
    "\n",
    "@contextmanager\n",
    "def db(db_filename='stock.db'):\n",
    "    \n",
    "    conn = sqlite3.connect(os.path.join('..', 'data', db_filename), detect_types=sqlite3.PARSE_DECLTYPES|sqlite3.PARSE_COLNAMES)\n",
    "\n",
    "    cur = conn.cursor()\n",
    "    \n",
    "    yield conn, cur\n",
    "    \n",
    "    conn.close()\n"
   ]
  },
  {
   "cell_type": "code",
   "execution_count": 3,
   "metadata": {
    "collapsed": true
   },
   "outputs": [],
   "source": [
    "\n",
    "def create_tables():\n",
    "    \n",
    "    with db() as (conn, cur):\n",
    "    \n",
    "        cur.execute('CREATE TABLE IF NOT EXISTS ticks (stock text, date text, open real, high real, low real, close real, adjclose real, volume integer, unique (stock, date))')\n",
    "        conn.commit()\n",
    "        \n",
    "        cur.execute('CREATE TABLE IF NOT EXISTS headlines (stock text, date text, source text, content text UNIQUE ON CONFLICT IGNORE)')\n",
    "        conn.commit()      \n",
    "        \n",
    "        cur.execute('CREATE TABLE IF NOT EXISTS specialwords (word UNIQUE ON CONFLICT IGNORE)')\n",
    "        conn.commit()\n"
   ]
  },
  {
   "cell_type": "code",
   "execution_count": 4,
   "metadata": {
    "collapsed": true
   },
   "outputs": [],
   "source": [
    "\n",
    "def add_stock_ticks(entries):\n",
    "    \n",
    "    with db() as (conn, cur):\n",
    "    \n",
    "        cur.executemany(\"INSERT OR IGNORE INTO ticks VALUES (?,?,?,?,?,?,?,?)\", entries)\n",
    "        conn.commit()\n",
    "    \n",
    "def add_headlines(entries):\n",
    "    \n",
    "    with db() as (conn, cur):\n",
    "    \n",
    "        cur.executemany(\"INSERT OR IGNORE INTO headlines VALUES (?,?,?,?)\", entries)\n",
    "        conn.commit()\n",
    "        \n",
    "def clean_ticks():\n",
    "    \n",
    "    with db() as (conn, cur):\n",
    "    \n",
    "        cur.execute(\"DELETE FROM ticks WHERE adjclose='null'\")\n",
    "        conn.commit()\n"
   ]
  },
  {
   "cell_type": "code",
   "execution_count": 5,
   "metadata": {
    "collapsed": true
   },
   "outputs": [],
   "source": [
    "\n",
    "if __name__ == \"__main__\":\n",
    "    \n",
    "    create_tables()\n"
   ]
  },
  {
   "cell_type": "code",
   "execution_count": 6,
   "metadata": {
    "collapsed": true
   },
   "outputs": [],
   "source": [
    "\n",
    "if __name__ == \"__main__\":\n",
    "    \n",
    "    special_words = [ # Words Not in Glove\n",
    "        [\"**PRODUCT**\"], \n",
    "        [\"**COMPANY**\"], \n",
    "        [\"**STATISTIC**\"], \n",
    "        [\"**COMPANY**s\"],\n",
    "        [\"**COMPANY**stock\"],\n",
    "        [\"ex**COMPANY**\"],\n",
    "        [\"**COMPANY**made\"],\n",
    "        [\"madeby**COMPANY**\"],\n",
    "        [\"singlecore\"],\n",
    "        [\"nowassistant\"],\n",
    "        [\"deeplearning\"],\n",
    "        [\"wannacry\"],\n",
    "        [\"qualcomms\"],\n",
    "        [\"smartglasses\"],\n",
    "        [\"selfdriving\"],\n",
    "        [\"pichai\"],\n",
    "        [\"zuckerberg\"],\n",
    "        [\"geekwire\"],\n",
    "        [\"uscanada\"],\n",
    "        [\"outofstock\"],\n",
    "        [\"outofsale\"],\n",
    "        [\"demonetizing\"],\n",
    "        [\"hydrogenpowered\"],\n",
    "        [\"homebutton\"],\n",
    "        [\"electriccar\"],\n",
    "        [\"xamarin\"],\n",
    "        [\"wellcalibrated\"],\n",
    "        [\"antitrump\"],\n",
    "        [\"multigpu\"],\n",
    "        [\"voicerecognition\"],\n",
    "        [\"firstgen\"],\n",
    "        [\"secondgeneration\"],\n",
    "        [\"investbuy\"],\n",
    "        [\"nearzero\"],\n",
    "        [\"techsavvy\"],\n",
    "        [\"steamvr\"],\n",
    "        [\"mostlycomplete\"],\n",
    "        [\"anticlimate\"],\n",
    "        [\"taxbonuses\"],\n",
    "        [\"steamos\"],\n",
    "        [\"specialedition\"],\n",
    "        [\"testdriving\"],\n",
    "        [\"oneplus\"],\n",
    "        [\"airpods\"],\n",
    "        [\"lyft\"],\n",
    "        [\"stockbased\"],\n",
    "        [\"multiadapter\"]\n",
    "    ]\n",
    "    \n",
    "    with db() as (conn, cur):\n",
    "    \n",
    "        cur.executemany(\"INSERT OR IGNORE INTO specialwords VALUES (?)\", special_words)\n",
    "        conn.commit()\n",
    "    "
   ]
  }
 ],
 "metadata": {
  "kernelspec": {
   "display_name": "Python [conda env:tf-gpu]",
   "language": "python",
   "name": "conda-env-tf-gpu-py"
  },
  "language_info": {
   "codemirror_mode": {
    "name": "ipython",
    "version": 3
   },
   "file_extension": ".py",
   "mimetype": "text/x-python",
   "name": "python",
   "nbconvert_exporter": "python",
   "pygments_lexer": "ipython3",
   "version": "3.5.4"
  }
 },
 "nbformat": 4,
 "nbformat_minor": 2
}
