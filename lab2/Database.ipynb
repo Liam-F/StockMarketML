{
 "cells": [
  {
   "cell_type": "code",
   "execution_count": 1,
   "metadata": {
    "collapsed": true
   },
   "outputs": [],
   "source": [
    "\n",
    "from contextlib import contextmanager\n",
    "import sqlite3\n",
    "import os\n"
   ]
  },
  {
   "cell_type": "code",
   "execution_count": 2,
   "metadata": {},
   "outputs": [],
   "source": [
    "\n",
    "@contextmanager\n",
    "def db(db_filename='stock.db'):\n",
    "    \n",
    "    conn = sqlite3.connect(os.path.join('..', 'data', db_filename), detect_types=sqlite3.PARSE_DECLTYPES|sqlite3.PARSE_COLNAMES)\n",
    "\n",
    "    cur = conn.cursor()\n",
    "    \n",
    "    yield conn, cur\n",
    "    \n",
    "    conn.close()\n"
   ]
  },
  {
   "cell_type": "code",
   "execution_count": 3,
   "metadata": {
    "collapsed": true
   },
   "outputs": [],
   "source": [
    "\n",
    "def create_table_ticker():\n",
    "    \n",
    "    with db() as (conn, cur):\n",
    "    \n",
    "        cur.execute('CREATE TABLE ticks (stock text, date text, open real, high real, low real, close real, adjclose real, volume integer)')\n",
    "        conn.commit()\n",
    "    \n",
    "def create_table_headlines():\n",
    "    \n",
    "    with db() as (conn, cur):\n",
    "    \n",
    "        cur.execute('CREATE TABLE headlines (stock text, date text, source text, content text UNIQUE ON CONFLICT IGNORE)')\n",
    "        conn.commit()\n"
   ]
  },
  {
   "cell_type": "code",
   "execution_count": 4,
   "metadata": {
    "collapsed": true
   },
   "outputs": [],
   "source": [
    "\n",
    "def add_stock_ticks(entries):\n",
    "    \n",
    "    with db() as (conn, cur):\n",
    "    \n",
    "        cur.executemany(\"INSERT INTO ticks VALUES (?,?,?,?,?,?,?,?)\", entries)\n",
    "        conn.commit()\n",
    "    \n",
    "def add_headlines(entries):\n",
    "    \n",
    "    with db() as (conn, cur):\n",
    "    \n",
    "        cur.executemany(\"INSERT INTO headlines VALUES (?,?,?,?)\", entries)\n",
    "        conn.commit()\n"
   ]
  },
  {
   "cell_type": "code",
   "execution_count": null,
   "metadata": {},
   "outputs": [],
   "source": [
    "\n",
    "if __name__ == \"__main__\":\n",
    "    \n",
    "    create_table_ticker()\n",
    "    create_table_headlines()\n"
   ]
  }
 ],
 "metadata": {
  "kernelspec": {
   "display_name": "Python [conda env:tf-gpu]",
   "language": "python",
   "name": "conda-env-tf-gpu-py"
  },
  "language_info": {
   "codemirror_mode": {
    "name": "ipython",
    "version": 3
   },
   "file_extension": ".py",
   "mimetype": "text/x-python",
   "name": "python",
   "nbconvert_exporter": "python",
   "pygments_lexer": "ipython3",
   "version": "3.5.4"
  }
 },
 "nbformat": 4,
 "nbformat_minor": 2
}
