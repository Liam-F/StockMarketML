{
 "cells": [
  {
   "cell_type": "code",
   "execution_count": 1,
   "metadata": {},
   "outputs": [
    {
     "name": "stderr",
     "output_type": "stream",
     "text": [
      "Using TensorFlow backend.\n"
     ]
    }
   ],
   "source": [
    "# Setup (Imports)\n",
    "\n",
    "from LoadData import *\n",
    "\n",
    "from keras.models import Sequential\n",
    "from keras.layers import Dense, LSTM\n",
    "\n",
    "import numpy as np\n",
    "\n",
    "import matplotlib.pyplot as plt"
   ]
  },
  {
   "cell_type": "code",
   "execution_count": 2,
   "metadata": {
    "collapsed": true
   },
   "outputs": [],
   "source": [
    "# Setup (Globals/Hyperz)\n",
    "\n",
    "window_size = 30\n",
    "epochs      = 600\n",
    "batch_size  = 64"
   ]
  },
  {
   "cell_type": "code",
   "execution_count": 3,
   "metadata": {
    "collapsed": true
   },
   "outputs": [],
   "source": [
    "# Loading and Splitting Data\n",
    "\n",
    "def get_data(stock, ratio=.80):\n",
    "    \n",
    "    data = csv_as_numpy(stock)[1][:, 3] # 3 = Closing Price\n",
    "    \n",
    "    # Scale\n",
    "    \n",
    "    mean = np.mean(data)\n",
    "    std = np.std(data)\n",
    "    \n",
    "    #data = data - mean\n",
    "    #data = data / std\n",
    "    \n",
    "    # Split\n",
    "    \n",
    "    train_size = int(len(data) * ratio)\n",
    "    \n",
    "    trainX, trainY = create_chunks(data[: train_size], window_size)\n",
    "    \n",
    "    testX, testY = create_chunks(data[train_size:], window_size)\n",
    "    \n",
    "    trainX = np.reshape(trainX, (trainX.shape[0], 1, trainX.shape[1]))\n",
    "    testX = np.reshape(testX, (testX.shape[0], 1, testX.shape[1]))\n",
    "    \n",
    "    return (trainX, trainY), (testX, testY), (mean, std)\n"
   ]
  },
  {
   "cell_type": "code",
   "execution_count": 4,
   "metadata": {
    "collapsed": true
   },
   "outputs": [],
   "source": [
    "# Setup (Create Model)\n",
    "\n",
    "def get_model():\n",
    "\n",
    "    model = Sequential()\n",
    "    \n",
    "    model.add(LSTM(20, input_shape=(1, window_size), return_sequences=True))\n",
    "    \n",
    "    model.add(LSTM(20, return_sequences=False))\n",
    "    \n",
    "    model.add(Dense(10, activation='relu'))\n",
    "    \n",
    "    model.add(Dense(1))\n",
    "    \n",
    "    model.compile(loss='mse', optimizer='adam')\n",
    "    \n",
    "    return model\n"
   ]
  },
  {
   "cell_type": "code",
   "execution_count": 5,
   "metadata": {},
   "outputs": [
    {
     "name": "stdout",
     "output_type": "stream",
     "text": [
      "(3533, 1, 30) (3533,)\n"
     ]
    }
   ],
   "source": [
    "# Run (Load)\n",
    "\n",
    "(trainX, trainY), (testX, testY), (mean, std) = get_data('AAPL')\n",
    "\n",
    "print(trainX.shape, trainY.shape)\n"
   ]
  },
  {
   "cell_type": "code",
   "execution_count": 6,
   "metadata": {},
   "outputs": [
    {
     "data": {
      "image/png": "[encoded data removed]",
      "text/plain": [
       "<matplotlib.figure.Figure at 0x27f6bad9898>"
      ]
     },
     "metadata": {},
     "output_type": "display_data"
    }
   ],
   "source": [
    "# Run (Train)\n",
    "\n",
    "model = get_model()\n",
    "\n",
    "history = model.fit(trainX, trainY, epochs=epochs, batch_size=batch_size, validation_data=(testX, testY), verbose=0)\n",
    "\n",
    "plt.plot(history.history['loss'])\n",
    "plt.plot(history.history['val_loss'])\n",
    "plt.legend(['TrainLoss', 'TestLoss'])\n",
    "plt.show()\n"
   ]
  },
  {
   "cell_type": "code",
   "execution_count": 7,
   "metadata": {},
   "outputs": [
    {
     "data": {
      "image/png": "[encoded data removed]",
      "text/plain": [
       "<matplotlib.figure.Figure at 0x27f6b0c0a58>"
      ]
     },
     "metadata": {},
     "output_type": "display_data"
    }
   ],
   "source": [
    "# Test\n",
    "\n",
    "data = csv_as_numpy('AAPL')[1][:, 3]\n",
    "\n",
    "data = data[:]\n",
    "\n",
    "prices_actual = []\n",
    "prices_predicted = []\n",
    "\n",
    "for i in range(len(data) - window_size - 1):\n",
    "        \n",
    "    X = data[i: i + window_size]\n",
    "    Y = data[i + window_size]\n",
    "    \n",
    "    prices_actual.append(Y)\n",
    "    \n",
    "    X = np.array([X])\n",
    "    \n",
    "    prediction = model.predict(np.reshape(X, (X.shape[0], 1, X.shape[1])))\n",
    "    \n",
    "    prediction = prediction\n",
    "    \n",
    "    prices_predicted.append(np.squeeze(prediction))\n",
    "\n",
    "plt.plot(prices_actual)\n",
    "plt.plot(prices_predicted)\n",
    "plt.show()\n"
   ]
  }
 ],
 "metadata": {
  "kernelspec": {
   "display_name": "Python [conda env:tf-cpu]",
   "language": "python",
   "name": "conda-env-tf-cpu-py"
  },
  "language_info": {
   "codemirror_mode": {
    "name": "ipython",
    "version": 3
   },
   "file_extension": ".py",
   "mimetype": "text/x-python",
   "name": "python",
   "nbconvert_exporter": "python",
   "pygments_lexer": "ipython3",
   "version": "3.5.4"
  }
 },
 "nbformat": 4,
 "nbformat_minor": 2
}
