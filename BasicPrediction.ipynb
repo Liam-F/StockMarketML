{
 "cells": [
  {
   "cell_type": "code",
   "execution_count": null,
   "metadata": {},
   "outputs": [],
   "source": [
    "# Setup (Imports)\n",
    "\n",
    "from LoadData import *\n",
    "\n",
    "from sklearn.preprocessing import StandardScaler\n",
    "from keras.models import Sequential\n",
    "from keras.layers import Dense, LSTM\n",
    "\n",
    "import numpy as np"
   ]
  },
  {
   "cell_type": "code",
   "execution_count": null,
   "metadata": {
    "collapsed": true
   },
   "outputs": [],
   "source": [
    "# Setup (Globals/Hyperz)\n",
    "\n",
    "window_size = 20\n",
    "epochs      = 100\n",
    "batch_size  = 1"
   ]
  },
  {
   "cell_type": "code",
   "execution_count": null,
   "metadata": {
    "collapsed": true
   },
   "outputs": [],
   "source": [
    "# Loading and Splitting Data\n",
    "\n",
    "def get_data(stock, ratio=.67):\n",
    "    \n",
    "    data = csv_as_numpy(stock)[1][:, 3]\n",
    "    \n",
    "    # Scale\n",
    "    \n",
    "    scaler = StandardScaler(with_mean=False)\n",
    "    \n",
    "    data = np.squeeze(scaler.fit_transform(np.array([data])))\n",
    "    \n",
    "    # Split\n",
    "    \n",
    "    train_size = int(len(data) * ratio)\n",
    "    \n",
    "    trainX, trainY = create_chunks(data[: train_size], window_size)\n",
    "    \n",
    "    testX, testY = create_chunks(data[train_size:], window_size)\n",
    "    \n",
    "    trainX = np.reshape(trainX, (trainX.shape[0], 1, trainX.shape[1]))\n",
    "    testX = np.reshape(testX, (testX.shape[0], 1, testX.shape[1]))\n",
    "    \n",
    "    return (trainX, trainY), (testX, testY), scaler\n"
   ]
  },
  {
   "cell_type": "code",
   "execution_count": null,
   "metadata": {
    "collapsed": true
   },
   "outputs": [],
   "source": [
    "# Setup (Create Model)\n",
    "\n",
    "def get_model():\n",
    "\n",
    "    model = Sequential()\n",
    "    \n",
    "    model.add(LSTM(4, input_shape=(1, window_size)))\n",
    "    model.add(Dense(1))\n",
    "    \n",
    "    model.compile(loss='mean_squared_error', optimizer='adam')\n",
    "    \n",
    "    return model"
   ]
  },
  {
   "cell_type": "code",
   "execution_count": null,
   "metadata": {},
   "outputs": [],
   "source": [
    "# Run (Load)\n",
    "\n",
    "(trainX, trainY), (testX, testY), scaler = get_data('AAPL')\n",
    "\n",
    "print(trainX.shape, trainY.shape)"
   ]
  },
  {
   "cell_type": "code",
   "execution_count": null,
   "metadata": {},
   "outputs": [],
   "source": [
    "# Run (Train)\n",
    "\n",
    "model = get_model()\n",
    "\n",
    "model.fit(trainX, trainY, epochs=epochs, batch_size=batch_size, verbose=2)"
   ]
  }
 ],
 "metadata": {
  "kernelspec": {
   "display_name": "Python [conda env:tf-gpu]",
   "language": "python",
   "name": "conda-env-tf-gpu-py"
  },
  "language_info": {
   "codemirror_mode": {
    "name": "ipython",
    "version": 3
   },
   "file_extension": ".py",
   "mimetype": "text/x-python",
   "name": "python",
   "nbconvert_exporter": "python",
   "pygments_lexer": "ipython3",
   "version": "3.5.3"
  }
 },
 "nbformat": 4,
 "nbformat_minor": 2
}
