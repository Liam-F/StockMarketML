{
 "cells": [
  {
   "cell_type": "code",
   "execution_count": null,
   "metadata": {},
   "outputs": [],
   "source": [
    "# Setup (Imports)\n",
    "\n",
    "from LoadData import *\n",
    "\n",
    "from keras.models import Sequential\n",
    "from keras.layers import Dense, LSTM, Dropout\n",
    "\n",
    "import numpy as np\n",
    "\n",
    "import matplotlib.pyplot as plt"
   ]
  },
  {
   "cell_type": "code",
   "execution_count": null,
   "metadata": {
    "collapsed": true
   },
   "outputs": [],
   "source": [
    "# Setup (Globals/Hyperz)\n",
    "\n",
    "window_size = 30\n",
    "epochs      = 600\n",
    "batch_size  = 128"
   ]
  },
  {
   "cell_type": "code",
   "execution_count": null,
   "metadata": {
    "collapsed": true
   },
   "outputs": [],
   "source": [
    "# Loading and Splitting Data\n",
    "\n",
    "def get_data(stock, ratio=.80, variation='lstm'):\n",
    "    \n",
    "    data = csv_as_numpy(stock)[1][:, 3] # 3 = Closing Price\n",
    "    \n",
    "    train_size = int(len(data) * ratio)\n",
    "    \n",
    "    if variation == 'lstm-regression':\n",
    "    \n",
    "        trainX, trainY = create_timeframe_regression_data(data[: train_size], window_size, norm=True)\n",
    "\n",
    "        testX, testY = create_timeframe_regression_data(data[train_size:], window_size, norm=True)\n",
    "\n",
    "        trainX = np.reshape(trainX, (trainX.shape[0], 1, trainX.shape[1]))\n",
    "        testX = np.reshape(testX, (testX.shape[0], 1, testX.shape[1]))\n",
    "        \n",
    "    elif variation == 'mlp-regression':\n",
    "    \n",
    "        trainX, trainY = create_timeframe_regression_data(data[: train_size], window_size, norm=True)\n",
    "\n",
    "        testX, testY = create_timeframe_regression_data(data[train_size:], window_size, norm=True)\n",
    "    \n",
    "    return (trainX, trainY), (testX, testY)\n"
   ]
  },
  {
   "cell_type": "code",
   "execution_count": null,
   "metadata": {
    "collapsed": true
   },
   "outputs": [],
   "source": [
    "# Setup (Create Model)\n",
    "\n",
    "def get_model(variation='lstm'):\n",
    "    \n",
    "    if variation == 'lstm-regression':\n",
    "\n",
    "        model = Sequential()\n",
    "\n",
    "        model.add(LSTM(16, input_shape=(1, window_size), return_sequences=True))\n",
    "\n",
    "        model.add(LSTM(16, return_sequences=False))\n",
    "\n",
    "        model.add(Dense(10, activation='relu'))\n",
    "\n",
    "        model.add(Dense(1, activation='linear'))\n",
    "\n",
    "        model.compile(loss='mse', optimizer='adam')\n",
    "        \n",
    "    elif variation == 'mlp-regression':\n",
    "        \n",
    "        model = Sequential()\n",
    "\n",
    "        model.add(Dense(160, input_dim=window_size, activation='relu'))\n",
    "        model.add(Dropout(.25))\n",
    "        \n",
    "        model.add(Dense(80, activation='relu'))\n",
    "        \n",
    "        model.add(Dense(1, activation='linear'))\n",
    "\n",
    "        model.compile(loss='mse', optimizer='adam')\n",
    "    \n",
    "    return model\n"
   ]
  },
  {
   "cell_type": "code",
   "execution_count": null,
   "metadata": {
    "scrolled": true
   },
   "outputs": [],
   "source": [
    "# Run (Load)\n",
    "\n",
    "(trainX, trainY), (testX, testY) = get_data('AAPL', variation='mlp-regression')\n",
    "\n",
    "print(trainX.shape, trainY.shape)\n"
   ]
  },
  {
   "cell_type": "code",
   "execution_count": null,
   "metadata": {
    "scrolled": true
   },
   "outputs": [],
   "source": [
    "# Run (Train)\n",
    "\n",
    "model = get_model(variation='mlp-regression')\n",
    "\n",
    "history = model.fit(trainX, trainY, epochs=epochs, batch_size=batch_size, validation_data=(testX, testY), verbose=0, shuffle=True)\n",
    "\n",
    "plt.plot(np.log(history.history['loss']))\n",
    "plt.plot(np.log(history.history['val_loss']))\n",
    "plt.legend(['TrainLoss', 'TestLoss'])\n",
    "plt.show()\n"
   ]
  },
  {
   "cell_type": "code",
   "execution_count": null,
   "metadata": {},
   "outputs": [],
   "source": [
    "# Test\n",
    "\n",
    "data = csv_as_numpy('AAPL')[1][:, 3]\n",
    "\n",
    "data = data[-200:]\n",
    "\n",
    "prices_actual = []\n",
    "prices_predicted = []\n",
    "\n",
    "for i in range(len(data) - window_size - 1):\n",
    "        \n",
    "    X = data[i: i + window_size]\n",
    "    Y = data[i + window_size]\n",
    "    \n",
    "    X = np.array([X])\n",
    "    \n",
    "    mean = np.mean(X)\n",
    "    \n",
    "    X = X - mean\n",
    "    \n",
    "    std = np.std(X)\n",
    "    \n",
    "    X = X / std\n",
    "    \n",
    "    prediction = model.predict(X)\n",
    "    # prediction = model.predict(np.reshape(X, (X.shape[0], 1, X.shape[1])))\n",
    "    \n",
    "    prediction = prediction * std + mean\n",
    "    \n",
    "    prices_actual.append(Y)\n",
    "    prices_predicted.append(np.squeeze(prediction))\n",
    "\n",
    "plt.plot(prices_actual)\n",
    "plt.plot(prices_predicted)\n",
    "plt.legend(['Actual', 'Predicted'])\n",
    "plt.show()\n"
   ]
  }
 ],
 "metadata": {
  "kernelspec": {
   "display_name": "Python [conda env:tf-cpu]",
   "language": "python",
   "name": "conda-env-tf-cpu-py"
  },
  "language_info": {
   "codemirror_mode": {
    "name": "ipython",
    "version": 3
   },
   "file_extension": ".py",
   "mimetype": "text/x-python",
   "name": "python",
   "nbconvert_exporter": "python",
   "pygments_lexer": "ipython3",
   "version": "3.5.4"
  }
 },
 "nbformat": 4,
 "nbformat_minor": 2
}
