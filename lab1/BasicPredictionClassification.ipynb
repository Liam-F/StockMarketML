{
 "cells": [
  {
   "cell_type": "code",
   "execution_count": 1,
   "metadata": {},
   "outputs": [
    {
     "name": "stderr",
     "output_type": "stream",
     "text": [
      "Using TensorFlow backend.\n"
     ]
    }
   ],
   "source": [
    "# Setup (Imports)\n",
    "\n",
    "from LoadData import *\n",
    "\n",
    "from keras import regularizers\n",
    "from keras import optimizers\n",
    "from keras.models import Sequential\n",
    "from keras.layers.advanced_activations import LeakyReLU\n",
    "from keras.callbacks import ReduceLROnPlateau, EarlyStopping, ModelCheckpoint\n",
    "from keras.layers import Dense, LSTM, Dropout, Flatten, Conv1D, BatchNormalization, Activation, GlobalMaxPooling1D, MaxPooling1D\n",
    "\n",
    "import numpy as np\n",
    "\n",
    "import matplotlib.pyplot as plt"
   ]
  },
  {
   "cell_type": "code",
   "execution_count": 2,
   "metadata": {
    "collapsed": true
   },
   "outputs": [],
   "source": [
    "# Setup (Globals/Hyperz)\n",
    "\n",
    "window_size = 10\n",
    "epochs      = 1000\n",
    "batch_size  = 64\n",
    "emb_size    = 5"
   ]
  },
  {
   "cell_type": "code",
   "execution_count": 3,
   "metadata": {
    "collapsed": true
   },
   "outputs": [],
   "source": [
    "# Loading and Splitting Data\n",
    "\n",
    "def get_data(stock, output='up/down', use_window_size=None):\n",
    "    \n",
    "    if not use_window_size: \n",
    "        use_window_size = window_size\n",
    "    \n",
    "    AllX, AllY = create_timeframed_alldata_classification_data(stock[0], use_window_size, norm=True, output=output)\n",
    "    \n",
    "    for i in range(1, len(stock)):\n",
    "        \n",
    "        MoreX, MoreY = create_timeframed_alldata_classification_data(stock[i], use_window_size, norm=True, output=output)\n",
    "        \n",
    "        AllX = np.concatenate([AllX, MoreX], axis=0)\n",
    "        AllY = np.concatenate([AllY, MoreY], axis=0)\n",
    "    \n",
    "    trainX, trainY, testX, testY = split_data(AllX, AllY, ratio=.90)\n",
    "    \n",
    "    return (trainX, trainY), (testX, testY)\n"
   ]
  },
  {
   "cell_type": "code",
   "execution_count": 4,
   "metadata": {
    "collapsed": true
   },
   "outputs": [],
   "source": [
    "# Setup (Create Model)\n",
    "\n",
    "def get_model():\n",
    "    \n",
    "    model = Sequential()\n",
    "    \n",
    "    #model.add(Conv1D(filters=64, kernel_size=5, padding='same', input_shape=(window_size, emb_size)))\n",
    "    #model.add(BatchNormalization())\n",
    "    #model.add(Activation('relu'))\n",
    "    \n",
    "    #model.add(Conv1D(filters=16, kernel_size=4, padding='same', input_shape=(window_size, emb_size)))\n",
    "    #model.add(BatchNormalization())\n",
    "    #model.add(Activation('relu'))\n",
    "    \n",
    "    #model.add(GlobalMaxPooling1D())\n",
    "    #model.add(Flatten(input_shape=(window_size, emb_size)))\n",
    "    \n",
    "    model.add(Conv1D(filters=64, kernel_size=5, padding='same', activation='relu', input_shape=(window_size, emb_size)))\n",
    "    #model.add(MaxPooling1D(pool_size=2))\n",
    "    model.add(LSTM(100))\n",
    "    \n",
    "    model.add(Dense(100))\n",
    "    model.add(BatchNormalization())\n",
    "    model.add(Activation('relu'))\n",
    "    model.add(Dropout(0.3))\n",
    "    \n",
    "    model.add(Dense(100))\n",
    "    model.add(BatchNormalization())\n",
    "    model.add(Activation('relu'))\n",
    "    model.add(Dropout(0.3))\n",
    "    \n",
    "    model.add(Dense(100))\n",
    "    model.add(BatchNormalization())\n",
    "    model.add(Activation('relu'))\n",
    "    model.add(Dropout(0.3))\n",
    "    \n",
    "    model.add(Dense(50))\n",
    "    model.add(BatchNormalization())\n",
    "    model.add(Activation('relu'))\n",
    "    model.add(Dropout(0.2))\n",
    "    \n",
    "    #model.add(Dense(10))\n",
    "    #model.add(BatchNormalization())\n",
    "    #model.add(Activation('selu'))\n",
    "    #model.add(Dropout(0.2))\n",
    "\n",
    "    model.add(Dense(2, activation='softmax'))\n",
    "    \n",
    "    model.compile(loss='categorical_crossentropy', optimizer='adam', metrics=['accuracy'])\n",
    "        \n",
    "    return model\n",
    "\n",
    "def get_model_random(win_size):\n",
    "    \n",
    "    ### Random params\n",
    "    \n",
    "    activations_dict = {\n",
    "        'Lrelu':   lambda: LeakyReLU(),\n",
    "        'relu':    lambda: Activation('relu'),\n",
    "        'sigmoid': lambda: Activation('sigmoid'),\n",
    "        'tanh':    lambda: Activation('tanh'),\n",
    "        'selu':    lambda: Activation('selu')\n",
    "    }\n",
    "    \n",
    "    num_convs = np.random.randint(1, 5)\n",
    "    num_filters = 2**np.random.randint(num_convs + 2, 7)\n",
    "    kernel_size = np.random.randint(2, 16)\n",
    "    \n",
    "    act_type = np.random.choice(list(activations_dict))\n",
    "    activation = activations_dict[act_type]\n",
    "    \n",
    "    batchnorm = np.random.choice([True, False])\n",
    "    dropout = np.random.rand() * .80\n",
    "    \n",
    "    num_dense = np.random.randint(1, 5)\n",
    "    num_hidden = np.random.randint(8, 300)\n",
    "    \n",
    "    opt = np.random.choice(['adam', 'rmsprop', 'nadam'])\n",
    "    \n",
    "    params = [num_convs, num_filters, kernel_size, act_type, batchnorm, dropout, num_dense, num_hidden, opt]\n",
    "    \n",
    "    #### Create\n",
    "    \n",
    "    model = Sequential()\n",
    "    \n",
    "    for i in range(num_convs):\n",
    "        \n",
    "        if i == 0:\n",
    "    \n",
    "            model.add(Conv1D(input_shape=(win_size, emb_size),\n",
    "                             filters=num_filters,\n",
    "                             kernel_size=kernel_size,\n",
    "                             padding='same'))\n",
    "        \n",
    "        else:\n",
    "            \n",
    "            model.add(Conv1D(filters=num_filters,\n",
    "                             kernel_size=kernel_size,\n",
    "                             padding='same'))\n",
    "        \n",
    "        if batchnorm: \n",
    "            model.add(BatchNormalization())\n",
    "            \n",
    "        model.add(activation())\n",
    "        model.add(Dropout(dropout))\n",
    "        \n",
    "        num_filters //= 2\n",
    " \n",
    "    model.add(Flatten())\n",
    "    \n",
    "    for i in range(num_dense):\n",
    "    \n",
    "        model.add(Dense(num_hidden))\n",
    "        \n",
    "        if batchnorm: \n",
    "            model.add(BatchNormalization())\n",
    "            \n",
    "        model.add(activation())\n",
    "        model.add(Dropout(dropout))\n",
    "\n",
    "    model.add(Dense(2, activation='softmax'))\n",
    "    \n",
    "    model.compile(loss='categorical_crossentropy', optimizer=opt, metrics=['accuracy'])\n",
    "        \n",
    "    return model, params\n"
   ]
  },
  {
   "cell_type": "code",
   "execution_count": 5,
   "metadata": {
    "collapsed": true
   },
   "outputs": [],
   "source": [
    "# Setup (Hyperz Search)\n",
    "\n",
    "def try_a_bunch_of_models_at_random(stock, num_attempts=10):\n",
    "    \n",
    "    models = []\n",
    "    model_names = []\n",
    "    \n",
    "    for i in range(num_attempts):\n",
    "        \n",
    "        print('Testing model...' + str(i))\n",
    "        \n",
    "        batch_size = 2**np.random.randint(5, 10)\n",
    "        window_size = np.random.randint(4, 45)\n",
    "        \n",
    "        (trainX, trainY), (testX, testY) = get_data(stock, use_window_size=window_size)\n",
    "\n",
    "        model, params = get_model_random(window_size)\n",
    "\n",
    "        reduce_LR = ReduceLROnPlateau(monitor='val_acc', factor=0.9, patience=30, min_lr=0.000001, verbose=0)\n",
    "        e_stopping = EarlyStopping(patience=100)\n",
    "\n",
    "        history = model.fit(trainX, trainY, epochs=epochs, \n",
    "                                            batch_size=batch_size, \n",
    "                                            validation_data=(testX, testY), \n",
    "                                            verbose=0, \n",
    "                                            callbacks=[reduce_LR, e_stopping])\n",
    "        \n",
    "        plt.plot(history.history['val_acc'])\n",
    "        \n",
    "        print(np.mean(history.history['val_acc'][-40:]))\n",
    "        \n",
    "        models.append((models, params, (window_size, batch_size)))\n",
    "        model_names.append(str(i))\n",
    "\n",
    "    plt.legend(model_names)\n",
    "    plt.show()\n",
    "    \n",
    "    return model_names, models\n"
   ]
  },
  {
   "cell_type": "code",
   "execution_count": 6,
   "metadata": {},
   "outputs": [
    {
     "name": "stderr",
     "output_type": "stream",
     "text": [
      "H:\\Dev\\github-repos\\StockMarketML\\LoadData.py:140: RuntimeWarning: divide by zero encountered in true_divide\n",
      "  time_frame /= np.std(time_frame[:-1], axis=0)\n",
      "H:\\Dev\\github-repos\\StockMarketML\\LoadData.py:140: RuntimeWarning: invalid value encountered in true_divide\n",
      "  time_frame /= np.std(time_frame[:-1], axis=0)\n"
     ]
    },
    {
     "name": "stdout",
     "output_type": "stream",
     "text": [
      "(59627, 10, 5) (59627, 2)\n"
     ]
    }
   ],
   "source": [
    "# Run (Load)\n",
    "\n",
    "if __name__ == \"__main__\":\n",
    "\n",
    "    (trainX, trainY), (testX, testY) = get_data(['AAPL', 'GOOG', 'MSFT', 'ORCL', 'INTC', 'IBM', 'NVDA', 'AMD'])\n",
    "\n",
    "    print(trainX.shape, trainY.shape)\n"
   ]
  },
  {
   "cell_type": "code",
   "execution_count": 7,
   "metadata": {},
   "outputs": [
    {
     "name": "stderr",
     "output_type": "stream",
     "text": [
      "H:\\Users\\Shriv\\Anaconda3\\envs\\tf-cpu\\lib\\site-packages\\keras\\callbacks.py:499: RuntimeWarning: invalid value encountered in less\n",
      "  if self.monitor_op(current - self.min_delta, self.best):\n"
     ]
    },
    {
     "data": {
      "image/png": "[encoded data removed]",
      "text/plain": [
       "<matplotlib.figure.Figure at 0x2eaf7ca3fd0>"
      ]
     },
     "metadata": {},
     "output_type": "display_data"
    },
    {
     "data": {
      "image/png": "[encoded data removed]",
      "text/plain": [
       "<matplotlib.figure.Figure at 0x2eaf9546550>"
      ]
     },
     "metadata": {},
     "output_type": "display_data"
    }
   ],
   "source": [
    "# Run (Train)\n",
    "\n",
    "if __name__ == \"__main__\":\n",
    "\n",
    "    model = get_model()\n",
    "\n",
    "    reduce_LR = ReduceLROnPlateau(monitor='val_acc', factor=0.9, patience=30, min_lr=1e-6, verbose=0)\n",
    "    e_stopping = EarlyStopping(patience=50)\n",
    "    checkpoint = ModelCheckpoint(os.path.join('..', 'models', 'basic-classification.h5'), \n",
    "                                 monitor='val_acc', \n",
    "                                 verbose=0, \n",
    "                                 save_best_only=True)\n",
    "\n",
    "    history = model.fit(trainX, trainY, epochs=epochs, \n",
    "                                        batch_size=batch_size, \n",
    "                                        validation_data=(testX, testY), \n",
    "                                        verbose=0, \n",
    "                                        callbacks=[checkpoint, e_stopping])\n",
    "\n",
    "    plt.plot(history.history['loss'])\n",
    "    plt.plot(history.history['val_loss'])\n",
    "    plt.legend(['TrainLoss', 'TestLoss'])\n",
    "    plt.show()\n",
    "\n",
    "    plt.plot(history.history['acc'])\n",
    "    plt.plot(history.history['val_acc'])\n",
    "    plt.legend(['TrainAcc', 'TestAcc'])\n",
    "    plt.show()\n"
   ]
  }
 ],
 "metadata": {
  "kernelspec": {
   "display_name": "Python [conda env:tf-cpu]",
   "language": "python",
   "name": "conda-env-tf-cpu-py"
  },
  "language_info": {
   "codemirror_mode": {
    "name": "ipython",
    "version": 3
   },
   "file_extension": ".py",
   "mimetype": "text/x-python",
   "name": "python",
   "nbconvert_exporter": "python",
   "pygments_lexer": "ipython3",
   "version": "3.5.4"
  }
 },
 "nbformat": 4,
 "nbformat_minor": 2
}
