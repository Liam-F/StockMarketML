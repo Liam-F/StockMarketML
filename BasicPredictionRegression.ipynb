{
 "cells": [
  {
   "cell_type": "code",
   "execution_count": 1,
   "metadata": {},
   "outputs": [
    {
     "name": "stderr",
     "output_type": "stream",
     "text": [
      "Using TensorFlow backend.\n"
     ]
    }
   ],
   "source": [
    "# Setup (Imports)\n",
    "\n",
    "from LoadData import *\n",
    "\n",
    "from keras.models import Sequential\n",
    "from keras.callbacks import ReduceLROnPlateau, EarlyStopping\n",
    "from keras.layers import Dense, LSTM, Dropout, BatchNormalization, Activation\n",
    "\n",
    "import numpy as np\n",
    "\n",
    "import matplotlib.pyplot as plt"
   ]
  },
  {
   "cell_type": "code",
   "execution_count": 2,
   "metadata": {
    "collapsed": true
   },
   "outputs": [],
   "source": [
    "# Setup (Globals/Hyperz)\n",
    "\n",
    "window_size = 44\n",
    "window_skip = 4\n",
    "epochs      = 1000\n",
    "batch_size  = 128"
   ]
  },
  {
   "cell_type": "code",
   "execution_count": 3,
   "metadata": {
    "collapsed": true
   },
   "outputs": [],
   "source": [
    "# Loading and Splitting Data\n",
    "\n",
    "def get_data(stock, variation='mlp-regression'):\n",
    "    \"\"\"\n",
    "    Gets data from `stock` for specific `variation` model\n",
    "    \"\"\"\n",
    "    if variation == 'lstm-regression':\n",
    "        \n",
    "        AllX, AllY = create_timeframed_close_regression_data(stock, window_size, window_skip, norm=True)\n",
    "    \n",
    "        trainX, trainY, testX, testY = split_data(AllX, AllY, ratio=.9)\n",
    "\n",
    "        trainX = np.reshape(trainX, (trainX.shape[0], 1, trainX.shape[1]))\n",
    "        testX = np.reshape(testX, (testX.shape[0], 1, testX.shape[1]))\n",
    "        \n",
    "    elif variation == 'mlp-regression':\n",
    "        \n",
    "        AllX, AllY = create_timeframed_close_regression_data(stock, window_size, window_skip, norm=True)\n",
    "    \n",
    "        trainX, trainY, testX, testY = split_data(AllX, AllY, ratio=.9)\n",
    "    \n",
    "    return (trainX, trainY), (testX, testY)\n"
   ]
  },
  {
   "cell_type": "code",
   "execution_count": 4,
   "metadata": {
    "collapsed": true
   },
   "outputs": [],
   "source": [
    "# Setup (Create Model)\n",
    "\n",
    "def get_model(variation='mlp-regression'):\n",
    "    \"\"\"\n",
    "    Gets the model for specific `variation`\n",
    "    \"\"\"\n",
    "    if variation == 'lstm-regression':\n",
    "\n",
    "        model = Sequential()\n",
    "\n",
    "        model.add(LSTM(16, input_shape=(1, window_size - window_skip), return_sequences=True))\n",
    "\n",
    "        model.add(LSTM(16, return_sequences=False))\n",
    "\n",
    "        model.add(Dense(10, activation='relu'))\n",
    "\n",
    "        model.add(Dense(1, activation='linear'))\n",
    "\n",
    "        model.compile(loss='mse', optimizer='adam')\n",
    "        \n",
    "    elif variation == 'mlp-regression':\n",
    "        \n",
    "        model = Sequential()\n",
    "\n",
    "        model.add(Dense(100, input_dim=window_size - window_skip))\n",
    "        model.add(BatchNormalization())\n",
    "        model.add(Activation('relu'))\n",
    "        model.add(Dropout(.25))\n",
    "        \n",
    "        model.add(Dense(100))\n",
    "        model.add(BatchNormalization())\n",
    "        model.add(Activation('relu'))\n",
    "        model.add(Dropout(.25))\n",
    "        \n",
    "        model.add(Dense(30))\n",
    "        model.add(BatchNormalization())\n",
    "        model.add(Activation('relu'))\n",
    "        model.add(Dropout(.25))\n",
    "        \n",
    "        model.add(Dense(1, activation='linear'))\n",
    "\n",
    "        model.compile(loss='mse', optimizer='adam')\n",
    "        \n",
    "    return model\n"
   ]
  },
  {
   "cell_type": "code",
   "execution_count": 5,
   "metadata": {
    "scrolled": true
   },
   "outputs": [
    {
     "name": "stdout",
     "output_type": "stream",
     "text": [
      "(3969, 40) (3969,)\n"
     ]
    }
   ],
   "source": [
    "# Run (Load)\n",
    "\n",
    "if __name__ == \"__main__\":\n",
    "\n",
    "    (trainX, trainY), (testX, testY) = get_data('AAPL', variation='mlp-regression')\n",
    "\n",
    "    print(trainX.shape, trainY.shape)\n"
   ]
  },
  {
   "cell_type": "code",
   "execution_count": 6,
   "metadata": {
    "scrolled": true
   },
   "outputs": [
    {
     "data": {
      "image/png": "[encoded data removed]",
      "text/plain": [
       "<matplotlib.figure.Figure at 0x1d0aca57eb8>"
      ]
     },
     "metadata": {},
     "output_type": "display_data"
    }
   ],
   "source": [
    "# Run (Train)\n",
    "\n",
    "if __name__ == \"__main__\":\n",
    "\n",
    "    model = get_model(variation='mlp-regression')\n",
    "\n",
    "    history = model.fit(trainX, trainY, epochs=epochs, \n",
    "                                        batch_size=batch_size, \n",
    "                                        validation_data=(testX, testY), \n",
    "                                        verbose=0, \n",
    "                                        callbacks=[EarlyStopping(patience=30)])\n",
    "\n",
    "    plt.plot(np.log(history.history['loss']))\n",
    "    plt.plot(np.log(history.history['val_loss']))\n",
    "    plt.legend(['TrainLoss', 'TestLoss'])\n",
    "    plt.show()\n",
    "    \n",
    "    model.save(os.path.join('models', 'basic-regression.h5'))\n"
   ]
  },
  {
   "cell_type": "code",
   "execution_count": 9,
   "metadata": {},
   "outputs": [
    {
     "data": {
      "image/png": "[encoded data removed]",
      "text/plain": [
       "<matplotlib.figure.Figure at 0x1d0aedb4da0>"
      ]
     },
     "metadata": {},
     "output_type": "display_data"
    }
   ],
   "source": [
    "# Test\n",
    "\n",
    "if __name__ == \"__main__\":\n",
    "\n",
    "    data = csv_as_numpy('AAPL')[1][:, 3]\n",
    "\n",
    "    data = data[-100:]\n",
    "\n",
    "    prices_actual = []\n",
    "    prices_predicted = []\n",
    "\n",
    "    for i in range(len(data) - window_size - 1):\n",
    "        \n",
    "        time_frame = np.copy(data[i: i + window_size + 1])\n",
    "            \n",
    "        mean = np.mean(time_frame[:-1])\n",
    "            \n",
    "        time_frame -= mean\n",
    "            \n",
    "        std = np.std(time_frame)\n",
    "            \n",
    "        time_frame /= std\n",
    "    \n",
    "        X = np.array([time_frame[:-1 - window_skip]])\n",
    "    \n",
    "        prediction = model.predict(X)\n",
    "    \n",
    "        # prediction = model.predict(np.reshape(X, (X.shape[0], 1, X.shape[1])))\n",
    "    \n",
    "        prediction = np.squeeze(prediction) * std + mean\n",
    "    \n",
    "        prices_actual.append(data[i + window_size])\n",
    "        prices_predicted.append(prediction)\n",
    "\n",
    "    plt.plot(prices_actual)\n",
    "    plt.plot(prices_predicted)\n",
    "    plt.legend(['Actual', 'Predicted'])\n",
    "    plt.show()\n"
   ]
  }
 ],
 "metadata": {
  "kernelspec": {
   "display_name": "Python [conda env:tf-cpu]",
   "language": "python",
   "name": "conda-env-tf-cpu-py"
  },
  "language_info": {
   "codemirror_mode": {
    "name": "ipython",
    "version": 3
   },
   "file_extension": ".py",
   "mimetype": "text/x-python",
   "name": "python",
   "nbconvert_exporter": "python",
   "pygments_lexer": "ipython3",
   "version": "3.5.4"
  }
 },
 "nbformat": 4,
 "nbformat_minor": 2
}
